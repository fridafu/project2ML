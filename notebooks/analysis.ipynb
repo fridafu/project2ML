{
 "cells": [
  {
   "cell_type": "code",
   "execution_count": 1,
   "metadata": {},
   "outputs": [],
   "source": [
    "import numpy as np\n",
    "import pandas as pd\n",
    "import scipy.constants as consts\n",
    "import matplotlib.pyplot as plt\n",
    "from io import StringIO\n",
    "import glob\n",
    "import os, sys\n",
    "import re\n",
    "plt.rcParams['figure.dpi']= 300"
   ]
  },
  {
   "cell_type": "code",
   "execution_count": 2,
   "metadata": {},
   "outputs": [],
   "source": [
    "params = {'legend.fontsize': 'x-large',\n",
    "          'figure.figsize': (10, 5),\n",
    "         'axes.labelsize': 'xx-large',\n",
    "         'axes.titlesize':'xx-large',\n",
    "         'xtick.labelsize':'large',\n",
    "         'ytick.labelsize':'large'}\n",
    "plt.rcParams.update(params)\n",
    "# set wanted parameters for plots"
   ]
  },
  {
   "cell_type": "code",
   "execution_count": null,
   "metadata": {},
   "outputs": [],
   "source": [
    "def name_dat_file():\n",
    "    filenames = [f for f in glob.glob(directory + '*.dat')]\n",
    "    return filenames"
   ]
  },
  {
   "cell_type": "markdown",
   "metadata": {},
   "source": [
    "Sort filenames nicely"
   ]
  },
  {
   "cell_type": "code",
   "execution_count": 3,
   "metadata": {},
   "outputs": [],
   "source": [
    "def tryint(s):\n",
    "    try:\n",
    "        return int(s)\n",
    "    except:\n",
    "        return s\n",
    "\n",
    "def alphanum_key(s):\n",
    "    \"\"\" Turn a string into a list of string and number chunks.\n",
    "        \"z23a\" -> [\"z\", 23, \"a\"]\"\"\"\n",
    "    return [ tryint(c) for c in re.split('([0-9]+)', s) ]\n",
    "\n",
    "def sort_nicely(l):\n",
    "    #Sort the given list in the way that humans expect\n",
    "    l.sort(key=alphanum_key)\n",
    "    return l"
   ]
  },
  {
   "cell_type": "markdown",
   "metadata": {},
   "source": [
    "### Read files into dataframe"
   ]
  },
  {
   "cell_type": "code",
   "execution_count": 5,
   "metadata": {},
   "outputs": [],
   "source": [
    "def energ_to_df(filename):\n",
    "    column_names = ['energy','variance', 't_cpu', 'acceptance']\n",
    "    df = pd.read_csv(filename,names=column_names, delim_whitespace=True,comment='#')\n",
    "    return df"
   ]
  },
  {
   "cell_type": "markdown",
   "metadata": {},
   "source": [
    "### Blocking"
   ]
  },
  {
   "cell_type": "code",
   "execution_count": 6,
   "metadata": {},
   "outputs": [],
   "source": [
    "def block_mean(vec):\n",
    "    return sum(vec)/len(vec)\n",
    "\n",
    "def meanAndVariance(vec):\n",
    "    mean = np.mean(vec)\n",
    "    var = sum([i ** 2 for i in vec])/len(vec) - mean*mean\n",
    "    return mean, var"
   ]
  },
  {
   "cell_type": "code",
   "execution_count": 7,
   "metadata": {},
   "outputs": [],
   "source": [
    "def everything_is_awesome(data): # does the blocking on the dataframe\n",
    "    n_blocks = 200\n",
    "    block_size_min = 100\n",
    "    block_size_max = len(data)/100\n",
    "    block_step = int ((block_size_max - block_size_min + 1) / n_blocks)\n",
    "    mean_vec = []\n",
    "    var_vec = []\n",
    "    block_sizes = []\n",
    "    for i in range(0, n_blocks):\n",
    "        mean_temp_vec = []\n",
    "        start_point = 0\n",
    "        end_point = block_size_min + block_step*i\n",
    "        block_size = end_point\n",
    "        block_sizes.append(block_size)\n",
    "\n",
    "    mean_temp_vec.append(block_mean(data[start_point:end_point]))\n",
    "    start_point = end_point\n",
    "    end_point += block_size_min + block_step*i\n",
    "    mean, var = meanAndVariance(mean_temp_vec)\n",
    "    mean_vec.append(mean)\n",
    "    var_vec.append(np.sqrt(var/(len(data)/float(block_size) - 1.0)))\n",
    "    mean, var = meanAndVariance(data)\n",
    "\n",
    "    return mean,var"
   ]
  },
  {
   "cell_type": "markdown",
   "metadata": {},
   "source": [
    "#### Add $\\sigma_b$ to a dataframe"
   ]
  },
  {
   "cell_type": "code",
   "execution_count": 9,
   "metadata": {},
   "outputs": [],
   "source": [
    "def add_block(dfmain,dfen):\n",
    "    meanlist = []\n",
    "    stdlist = []\n",
    "    tempmean, tempvar = everything_is_awesome(dfen['energy'])\n",
    "    meanlist.append(tempmean)\n",
    "    stdlist.append(np.sqrt(np.abs((tempvar))))\n",
    "    dfmain['std_b'] = stdlist\n",
    "    return dfmain"
   ]
  },
  {
   "cell_type": "code",
   "execution_count": null,
   "metadata": {},
   "outputs": [],
   "source": []
  },
  {
   "cell_type": "code",
   "execution_count": 11,
   "metadata": {},
   "outputs": [],
   "source": [
    "def plotenergy(df,legend_names):\n",
    "    plt.plot(df['energy'])\n",
    "    plt.xlabel('time')\n",
    "    plt.ylabel('energy')\n",
    "    plt.legend(legend_names)\n",
    "    plt.show()"
   ]
  },
  {
   "cell_type": "code",
   "execution_count": null,
   "metadata": {},
   "outputs": [],
   "source": []
  },
  {
   "cell_type": "code",
   "execution_count": null,
   "metadata": {},
   "outputs": [],
   "source": []
  },
  {
   "cell_type": "code",
   "execution_count": null,
   "metadata": {},
   "outputs": [],
   "source": []
  },
  {
   "cell_type": "code",
   "execution_count": null,
   "metadata": {},
   "outputs": [],
   "source": []
  },
  {
   "cell_type": "code",
   "execution_count": null,
   "metadata": {},
   "outputs": [],
   "source": []
  },
  {
   "cell_type": "code",
   "execution_count": null,
   "metadata": {},
   "outputs": [],
   "source": []
  },
  {
   "cell_type": "code",
   "execution_count": null,
   "metadata": {},
   "outputs": [],
   "source": []
  },
  {
   "cell_type": "code",
   "execution_count": null,
   "metadata": {},
   "outputs": [],
   "source": []
  },
  {
   "cell_type": "code",
   "execution_count": null,
   "metadata": {},
   "outputs": [],
   "source": []
  },
  {
   "cell_type": "code",
   "execution_count": null,
   "metadata": {},
   "outputs": [],
   "source": []
  },
  {
   "cell_type": "code",
   "execution_count": null,
   "metadata": {},
   "outputs": [],
   "source": []
  },
  {
   "cell_type": "code",
   "execution_count": null,
   "metadata": {},
   "outputs": [],
   "source": []
  },
  {
   "cell_type": "code",
   "execution_count": null,
   "metadata": {},
   "outputs": [],
   "source": []
  },
  {
   "cell_type": "code",
   "execution_count": null,
   "metadata": {},
   "outputs": [],
   "source": []
  },
  {
   "cell_type": "code",
   "execution_count": null,
   "metadata": {},
   "outputs": [],
   "source": []
  }
 ],
 "metadata": {
  "kernelspec": {
   "display_name": "Python 3",
   "language": "python",
   "name": "python3"
  },
  "language_info": {
   "codemirror_mode": {
    "name": "ipython",
    "version": 3
   },
   "file_extension": ".py",
   "mimetype": "text/x-python",
   "name": "python",
   "nbconvert_exporter": "python",
   "pygments_lexer": "ipython3",
   "version": "3.5.2"
  }
 },
 "nbformat": 4,
 "nbformat_minor": 2
}
